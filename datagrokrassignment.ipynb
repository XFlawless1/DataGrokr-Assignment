{
  "cells": [
    {
      "cell_type": "code",
      "source": [
        "!apt-get update"
      ],
      "metadata": {
        "colab": {
          "base_uri": "https://localhost:8080/"
        },
        "id": "26bplbcTpikP",
        "outputId": "511ec056-0769-4806-ee3e-170a6f765387"
      },
      "id": "26bplbcTpikP",
      "execution_count": null,
      "outputs": [
        {
          "output_type": "stream",
          "name": "stdout",
          "text": [
            "\r0% [Working]\r            \rGet:1 https://cloud.r-project.org/bin/linux/ubuntu bionic-cran40/ InRelease [3,626 B]\n",
            "\r0% [Waiting for headers] [Connecting to security.ubuntu.com (185.125.190.39)] [\r0% [Waiting for headers] [Connecting to security.ubuntu.com (185.125.190.39)] [\r                                                                               \rIgn:2 https://developer.download.nvidia.com/compute/machine-learning/repos/ubuntu1804/x86_64  InRelease\n",
            "\r0% [Waiting for headers] [Connecting to security.ubuntu.com (185.125.190.39)] [\r0% [1 InRelease gpgv 3,626 B] [Waiting for headers] [Connecting to security.ubu\r                                                                               \rGet:3 https://developer.download.nvidia.com/compute/cuda/repos/ubuntu1804/x86_64  InRelease [1,581 B]\n",
            "\r0% [1 InRelease gpgv 3,626 B] [Waiting for headers] [Waiting for headers] [Wait\r                                                                               \rHit:4 https://developer.download.nvidia.com/compute/machine-learning/repos/ubuntu1804/x86_64  Release\n",
            "Hit:5 http://archive.ubuntu.com/ubuntu bionic InRelease\n",
            "Get:6 http://security.ubuntu.com/ubuntu bionic-security InRelease [88.7 kB]\n",
            "Get:7 http://ppa.launchpad.net/c2d4u.team/c2d4u4.0+/ubuntu bionic InRelease [15.9 kB]\n",
            "Get:8 http://archive.ubuntu.com/ubuntu bionic-updates InRelease [88.7 kB]\n",
            "Get:9 https://cloud.r-project.org/bin/linux/ubuntu bionic-cran40/ Packages [90.7 kB]\n",
            "Hit:10 http://ppa.launchpad.net/cran/libgit2/ubuntu bionic InRelease\n",
            "Get:11 http://archive.ubuntu.com/ubuntu bionic-backports InRelease [74.6 kB]\n",
            "Get:12 https://developer.download.nvidia.com/compute/cuda/repos/ubuntu1804/x86_64  Packages [903 kB]\n",
            "Get:13 http://ppa.launchpad.net/deadsnakes/ppa/ubuntu bionic InRelease [15.9 kB]\n",
            "Get:14 http://ppa.launchpad.net/graphics-drivers/ppa/ubuntu bionic InRelease [21.3 kB]\n",
            "Get:16 http://ppa.launchpad.net/c2d4u.team/c2d4u4.0+/ubuntu bionic/main Sources [2,095 kB]\n",
            "Get:17 http://security.ubuntu.com/ubuntu bionic-security/universe amd64 Packages [1,533 kB]\n",
            "Get:18 http://security.ubuntu.com/ubuntu bionic-security/main amd64 Packages [2,937 kB]\n",
            "Get:19 http://archive.ubuntu.com/ubuntu bionic-updates/universe amd64 Packages [2,310 kB]\n",
            "Get:20 http://security.ubuntu.com/ubuntu bionic-security/restricted amd64 Packages [1,100 kB]\n",
            "Get:21 http://ppa.launchpad.net/c2d4u.team/c2d4u4.0+/ubuntu bionic/main amd64 Packages [1,073 kB]\n",
            "Get:22 http://archive.ubuntu.com/ubuntu bionic-updates/main amd64 Packages [3,369 kB]\n",
            "Get:23 http://ppa.launchpad.net/deadsnakes/ppa/ubuntu bionic/main amd64 Packages [45.3 kB]\n",
            "Get:24 http://ppa.launchpad.net/graphics-drivers/ppa/ubuntu bionic/main amd64 Packages [47.7 kB]\n",
            "Get:25 http://archive.ubuntu.com/ubuntu bionic-updates/restricted amd64 Packages [1,141 kB]\n",
            "Fetched 17.0 MB in 4s (3,945 kB/s)\n",
            "Reading package lists... Done\n"
          ]
        }
      ]
    },
    {
      "cell_type": "code",
      "source": [
        "!apt-get install openjdk-8-jdk-headless -qq > /dev/null\n"
      ],
      "metadata": {
        "id": "qCRZQzeDoZTL"
      },
      "id": "qCRZQzeDoZTL",
      "execution_count": null,
      "outputs": []
    },
    {
      "cell_type": "code",
      "source": [
        "!wget -q https://archive.apache.org/dist/spark/spark-3.1.2/spark-3.1.2-bin-hadoop2.7.tgz\n"
      ],
      "metadata": {
        "id": "WLJ5AvYHoczs"
      },
      "id": "WLJ5AvYHoczs",
      "execution_count": null,
      "outputs": []
    },
    {
      "cell_type": "code",
      "source": [
        "!tar xf spark-3.1.2-bin-hadoop2.7.tgz\n"
      ],
      "metadata": {
        "id": "7ltoe1J5oezu"
      },
      "id": "7ltoe1J5oezu",
      "execution_count": null,
      "outputs": []
    },
    {
      "cell_type": "code",
      "source": [
        "from google.colab import drive\n",
        "drive.mount('/content/drive')"
      ],
      "metadata": {
        "colab": {
          "base_uri": "https://localhost:8080/"
        },
        "id": "1OCjfQTqowbn",
        "outputId": "e05913d1-6f92-4edf-b11e-c2ef500f0c5d"
      },
      "id": "1OCjfQTqowbn",
      "execution_count": null,
      "outputs": [
        {
          "output_type": "stream",
          "name": "stdout",
          "text": [
            "Drive already mounted at /content/drive; to attempt to forcibly remount, call drive.mount(\"/content/drive\", force_remount=True).\n"
          ]
        }
      ]
    },
    {
      "cell_type": "code",
      "execution_count": null,
      "id": "867504c0",
      "metadata": {
        "id": "867504c0"
      },
      "outputs": [],
      "source": [
        "import os\n",
        "os.environ[\"JAVA_HOME\"] = \"/usr/lib/jvm/java-8-openjdk-amd64\"\n",
        "os.environ[\"SPARK_HOME\"] = \"/content/spark-3.1.2-bin-hadoop2.7\""
      ]
    },
    {
      "cell_type": "code",
      "execution_count": null,
      "id": "a5a5abd3",
      "metadata": {
        "id": "a5a5abd3"
      },
      "outputs": [],
      "source": [
        "!pip install -q findspark\n",
        "import findspark\n",
        "findspark.init()"
      ]
    },
    {
      "cell_type": "code",
      "execution_count": null,
      "id": "efbbbbc1",
      "metadata": {
        "id": "efbbbbc1"
      },
      "outputs": [],
      "source": [
        "from pyspark.sql import SparkSession\n",
        "spark = (SparkSession\n",
        " .builder\n",
        " .appName(\"modelx\")\n",
        " .getOrCreate())\n"
      ]
    },
    {
      "cell_type": "code",
      "source": [
        "import gdown\n",
        "url = \"https://drive.google.com/drive/folders/1QgWPHV_l25Ui9L7et8mkZohAOG59UTkQ?usp=sharing\"\n",
        "gdown.download_folder(url, quiet=True, use_cookies=False)"
      ],
      "metadata": {
        "colab": {
          "base_uri": "https://localhost:8080/"
        },
        "id": "63-LRVOSpddO",
        "outputId": "8d9be268-34fb-4bed-f897-f0d7320116cd"
      },
      "id": "63-LRVOSpddO",
      "execution_count": null,
      "outputs": [
        {
          "output_type": "execute_result",
          "data": {
            "text/plain": [
              "['/content/chess/chess_schema.png',\n",
              " '/content/chess/chess_wc_history_game_info.csv',\n",
              " '/content/chess/chess_wc_history_moves.csv',\n",
              " '/content/chess/eco_codes.csv']"
            ]
          },
          "metadata": {},
          "execution_count": 11
        }
      ]
    },
    {
      "cell_type": "code",
      "execution_count": null,
      "id": "5136e4ff",
      "metadata": {
        "id": "5136e4ff"
      },
      "outputs": [],
      "source": [
        "eco_codes_df=spark.read.option(\"header\",\"true\").option(\"inferSchema\",\"true\").csv(\"/content/chess/eco_codes.csv\")"
      ]
    },
    {
      "cell_type": "code",
      "execution_count": null,
      "id": "90982025",
      "metadata": {
        "colab": {
          "base_uri": "https://localhost:8080/"
        },
        "id": "90982025",
        "outputId": "7f1c4c42-9a5d-4c89-c04f-f98fa084dedb"
      },
      "outputs": [
        {
          "output_type": "stream",
          "name": "stdout",
          "text": [
            "+---+--------------------+--------------------+--------+---------+\n",
            "|eco|            eco_name|         eco_example|eco_type|eco_group|\n",
            "+---+--------------------+--------------------+--------+---------+\n",
            "|A00|    Uncommon Opening|  1 g4, a3, h3, etc.|       A|    Flank|\n",
            "|A01|Nimzovich-Larsen ...|                1 b3|       A|    Flank|\n",
            "|A02|      Bird's Opening|                1 f4|       A|    Flank|\n",
            "|A03|      Bird's Opening|             1 f4 d5|       A|    Flank|\n",
            "|A04|        Reti Opening|               1 Nf3|       A|    Flank|\n",
            "|A05|        Reti Opening|           1 Nf3 Nf6|       A|    Flank|\n",
            "|A06|        Reti Opening|            1 Nf3 d5|       A|    Flank|\n",
            "|A07|King's Indian Attack|       1 Nf3 d5 2 g3|       A|    Flank|\n",
            "|A08|King's Indian Attack|1 Nf3 d5 2 g3 c5 ...|       A|    Flank|\n",
            "|A09|        Reti Opening|       1 Nf3 d5 2 c4|       A|    Flank|\n",
            "+---+--------------------+--------------------+--------+---------+\n",
            "only showing top 10 rows\n",
            "\n"
          ]
        }
      ],
      "source": [
        "eco_codes_df.show(10)"
      ]
    },
    {
      "cell_type": "code",
      "execution_count": null,
      "id": "26fac6c1",
      "metadata": {
        "id": "26fac6c1"
      },
      "outputs": [],
      "source": [
        "chess_wc_history_moves_df=spark.read.option(\"header\",\"true\").option(\"inferSchema\",\"true\").csv(\"/content/chess/chess_wc_history_moves.csv\")"
      ]
    },
    {
      "cell_type": "code",
      "execution_count": null,
      "id": "14abbc2b",
      "metadata": {
        "colab": {
          "base_uri": "https://localhost:8080/"
        },
        "id": "14abbc2b",
        "outputId": "d1f4b73b-d262-4106-87dd-c32b79ba6ff2"
      },
      "outputs": [
        {
          "output_type": "stream",
          "name": "stdout",
          "text": [
            "+--------------------+-------+------------+----------------+--------+----+-----------+---------+-----+-----+--------------------+--------+-------------+--------------+----------------------+------------+------------------------+-----------+-----------+----------------+----------------+-----------------+-----------------+------------------+------------------+------------------+------------------+----------------+----------------+------------------------+------------------------+--------------------+--------------------+--------------------+--------------------+--------------------+--------------------+--------------------+--------------------+--------------------+--------------------+--------------------+--------------------+--------------------+--------------------+--------------------+--------------------+--------------------+--------------------+--------------------+--------------------+--------------------+--------------------+--------------------+--------------------+--------------------+--------------------+--------------------+--------------------+--------------------+--------------------+--------------------+--------------------+--------------------+\n",
            "|             game_id|move_no|move_no_pair|          player|notation|move|from_square|to_square|piece|color|                 fen|is_check|is_check_mate|is_fifty_moves|is_fivefold_repetition|is_game_over|is_insufficient_material|white_count|black_count|white_pawn_count|black_pawn_count|white_queen_count|black_queen_count|white_bishop_count|black_bishop_count|white_knight_count|black_knight_count|white_rook_count|black_rook_count|captured_score_for_white|captured_score_for_black|fen_row1_white_count|fen_row2_white_count|fen_row3_white_count|fen_row4_white_count|fen_row5_white_count|fen_row6_white_count|fen_row7_white_count|fen_row8_white_count|fen_row1_white_value|fen_row2_white_value|fen_row3_white_value|fen_row4_white_value|fen_row5_white_value|fen_row6_white_value|fen_row7_white_value|fen_row8_white_value|fen_row1_black_count|fen_row2_black_count|fen_row3_black_count|fen_row4_black_count|fen_row5_black_count|fen_row6_black_count|fen_row7_black_count|fen_row8_black_count|fen_row1_black_value|fen_row2_black_value|fen_row3_black_value|fen_row4_black_value|fen_row5_black_value|fen_row6_black_value|fen_row7_black_value|fen_row8_black_value|       move_sequence|\n",
            "+--------------------+-------+------------+----------------+--------+----+-----------+---------+-----+-----+--------------------+--------+-------------+--------------+----------------------+------------+------------------------+-----------+-----------+----------------+----------------+-----------------+-----------------+------------------+------------------+------------------+------------------+----------------+----------------+------------------------+------------------------+--------------------+--------------------+--------------------+--------------------+--------------------+--------------------+--------------------+--------------------+--------------------+--------------------+--------------------+--------------------+--------------------+--------------------+--------------------+--------------------+--------------------+--------------------+--------------------+--------------------+--------------------+--------------------+--------------------+--------------------+--------------------+--------------------+--------------------+--------------------+--------------------+--------------------+--------------------+--------------------+--------------------+\n",
            "|86e0b7f5-7b94-4ae...|      1|           1|Nepomniachtchi,I|      e4|e2e4|         e2|       e4|    P|White|rnbqkbnr/pppppppp...|       0|            0|             0|                     0|           0|                       0|         16|         16|               8|               8|                1|                1|                 2|                 2|                 2|                 2|               2|               2|                       0|                       0|                   8|                   7|                   0|                   1|                   0|                   0|                   0|                   0|                  31|                   7|                   0|                   1|                   0|                   0|                   0|                   0|                   0|                   0|                   0|                   0|                   0|                   0|                   8|                   8|                   0|                   0|                   0|                   0|                   0|                   0|                   8|                  31|                  e4|\n",
            "|86e0b7f5-7b94-4ae...|      2|           1|       Carlsen,M|      e5|e7e5|         e7|       e5|    P|Black|rnbqkbnr/pppp1ppp...|       0|            0|             0|                     0|           0|                       0|         16|         16|               8|               8|                1|                1|                 2|                 2|                 2|                 2|               2|               2|                       0|                       0|                   8|                   7|                   0|                   1|                   0|                   0|                   0|                   0|                  31|                   7|                   0|                   1|                   0|                   0|                   0|                   0|                   0|                   0|                   0|                   0|                   1|                   0|                   7|                   8|                   0|                   0|                   0|                   0|                   1|                   0|                   7|                  31|               e4|e5|\n",
            "|86e0b7f5-7b94-4ae...|      3|           2|Nepomniachtchi,I|     Nf3|g1f3|         g1|       f3|    N|White|rnbqkbnr/pppp1ppp...|       0|            0|             0|                     0|           0|                       0|         16|         16|               8|               8|                1|                1|                 2|                 2|                 2|                 2|               2|               2|                       0|                       0|                   7|                   7|                   1|                   1|                   0|                   0|                   0|                   0|                  28|                   7|                   3|                   1|                   0|                   0|                   0|                   0|                   0|                   0|                   0|                   0|                   1|                   0|                   7|                   8|                   0|                   0|                   0|                   0|                   1|                   0|                   7|                  31|           e4|e5|Nf3|\n",
            "|86e0b7f5-7b94-4ae...|      4|           2|       Carlsen,M|     Nc6|b8c6|         b8|       c6|    N|Black|r1bqkbnr/pppp1ppp...|       0|            0|             0|                     0|           0|                       0|         16|         16|               8|               8|                1|                1|                 2|                 2|                 2|                 2|               2|               2|                       0|                       0|                   7|                   7|                   1|                   1|                   0|                   0|                   0|                   0|                  28|                   7|                   3|                   1|                   0|                   0|                   0|                   0|                   0|                   0|                   0|                   0|                   1|                   1|                   7|                   7|                   0|                   0|                   0|                   0|                   1|                   3|                   7|                  28|       e4|e5|Nf3|Nc6|\n",
            "|86e0b7f5-7b94-4ae...|      5|           3|Nepomniachtchi,I|     Bb5|f1b5|         f1|       b5|    B|White|r1bqkbnr/pppp1ppp...|       0|            0|             0|                     0|           0|                       0|         16|         16|               8|               8|                1|                1|                 2|                 2|                 2|                 2|               2|               2|                       0|                       0|                   6|                   7|                   1|                   1|                   1|                   0|                   0|                   0|                  25|                   7|                   3|                   1|                   3|                   0|                   0|                   0|                   0|                   0|                   0|                   0|                   1|                   1|                   7|                   7|                   0|                   0|                   0|                   0|                   1|                   3|                   7|                  28|   e4|e5|Nf3|Nc6|Bb5|\n",
            "|86e0b7f5-7b94-4ae...|      6|           3|       Carlsen,M|      a6|a7a6|         a7|       a6|    P|Black|r1bqkbnr/1ppp1ppp...|       0|            0|             0|                     0|           0|                       0|         16|         16|               8|               8|                1|                1|                 2|                 2|                 2|                 2|               2|               2|                       0|                       0|                   6|                   7|                   1|                   1|                   1|                   0|                   0|                   0|                  25|                   7|                   3|                   1|                   3|                   0|                   0|                   0|                   0|                   0|                   0|                   0|                   1|                   2|                   6|                   7|                   0|                   0|                   0|                   0|                   1|                   4|                   6|                  28|e4|e5|Nf3|Nc6|Bb5|a6|\n",
            "|86e0b7f5-7b94-4ae...|      7|           4|Nepomniachtchi,I|     Ba4|b5a4|         b5|       a4|    B|White|r1bqkbnr/1ppp1ppp...|       0|            0|             0|                     0|           0|                       0|         16|         16|               8|               8|                1|                1|                 2|                 2|                 2|                 2|               2|               2|                       0|                       0|                   6|                   7|                   1|                   2|                   0|                   0|                   0|                   0|                  25|                   7|                   3|                   4|                   0|                   0|                   0|                   0|                   0|                   0|                   0|                   0|                   1|                   2|                   6|                   7|                   0|                   0|                   0|                   0|                   1|                   4|                   6|                  28|e4|e5|Nf3|Nc6|Bb5...|\n",
            "|86e0b7f5-7b94-4ae...|      8|           4|       Carlsen,M|     Nf6|g8f6|         g8|       f6|    N|Black|r1bqkb1r/1ppp1ppp...|       0|            0|             0|                     0|           0|                       0|         16|         16|               8|               8|                1|                1|                 2|                 2|                 2|                 2|               2|               2|                       0|                       0|                   6|                   7|                   1|                   2|                   0|                   0|                   0|                   0|                  25|                   7|                   3|                   4|                   0|                   0|                   0|                   0|                   0|                   0|                   0|                   0|                   1|                   3|                   6|                   6|                   0|                   0|                   0|                   0|                   1|                   7|                   6|                  25|e4|e5|Nf3|Nc6|Bb5...|\n",
            "|86e0b7f5-7b94-4ae...|      9|           5|Nepomniachtchi,I|     O-O|e1g1|         e1|       g1|    K|White|r1bqkb1r/1ppp1ppp...|       0|            0|             0|                     0|           0|                       0|         16|         16|               8|               8|                1|                1|                 2|                 2|                 2|                 2|               2|               2|                       0|                       0|                   6|                   7|                   1|                   2|                   0|                   0|                   0|                   0|                  25|                   7|                   3|                   4|                   0|                   0|                   0|                   0|                   0|                   0|                   0|                   0|                   1|                   3|                   6|                   6|                   0|                   0|                   0|                   0|                   1|                   7|                   6|                  25|e4|e5|Nf3|Nc6|Bb5...|\n",
            "|86e0b7f5-7b94-4ae...|     10|           5|       Carlsen,M|     Be7|f8e7|         f8|       e7|    B|Black|r1bqk2r/1pppbppp/...|       0|            0|             0|                     0|           0|                       0|         16|         16|               8|               8|                1|                1|                 2|                 2|                 2|                 2|               2|               2|                       0|                       0|                   6|                   7|                   1|                   2|                   0|                   0|                   0|                   0|                  25|                   7|                   3|                   4|                   0|                   0|                   0|                   0|                   0|                   0|                   0|                   0|                   1|                   3|                   7|                   5|                   0|                   0|                   0|                   0|                   1|                   7|                   9|                  22|e4|e5|Nf3|Nc6|Bb5...|\n",
            "+--------------------+-------+------------+----------------+--------+----+-----------+---------+-----+-----+--------------------+--------+-------------+--------------+----------------------+------------+------------------------+-----------+-----------+----------------+----------------+-----------------+-----------------+------------------+------------------+------------------+------------------+----------------+----------------+------------------------+------------------------+--------------------+--------------------+--------------------+--------------------+--------------------+--------------------+--------------------+--------------------+--------------------+--------------------+--------------------+--------------------+--------------------+--------------------+--------------------+--------------------+--------------------+--------------------+--------------------+--------------------+--------------------+--------------------+--------------------+--------------------+--------------------+--------------------+--------------------+--------------------+--------------------+--------------------+--------------------+--------------------+--------------------+\n",
            "only showing top 10 rows\n",
            "\n"
          ]
        }
      ],
      "source": [
        "chess_wc_history_moves_df.show(10)"
      ]
    },
    {
      "cell_type": "code",
      "execution_count": null,
      "id": "e7296038",
      "metadata": {
        "id": "e7296038"
      },
      "outputs": [],
      "source": [
        "chess_wc_history_game_info_df=spark.read.option(\"header\",\"true\").option(\"inferSchema\",\"true\").csv(\"/content/chess/chess_wc_history_game_info.csv\")"
      ]
    },
    {
      "cell_type": "code",
      "execution_count": null,
      "id": "94afe9cb",
      "metadata": {
        "colab": {
          "base_uri": "https://localhost:8080/"
        },
        "id": "94afe9cb",
        "outputId": "349de892-d59a-43e9-e74a-dfb6b2d8bc65"
      },
      "outputs": [
        {
          "output_type": "stream",
          "name": "stdout",
          "text": [
            "+--------------------+----------+--------+---------+-----------+-----+----------------+----------------+-------+---------+---------+-----------+-----------+---------+----------+----------------+---------+---------------------+---+--------------------+---------------+\n",
            "|             game_id|game_order|   event|     site|date_played|round|           white|           black| result|white_elo|black_elo|white_title|black_title|   winner|winner_elo|           loser|loser_elo|winner_loser_elo_diff|eco|        date_created|tournament_name|\n",
            "+--------------------+----------+--------+---------+-----------+-----+----------------+----------------+-------+---------+---------+-----------+-----------+---------+----------+----------------+---------+---------------------+---+--------------------+---------------+\n",
            "|86e0b7f5-7b94-4ae...|         1|WCh 2021|Dubai UAE| 2021.11.26|  1.0|Nepomniachtchi,I|       Carlsen,M|1/2-1/2|     2782|     2855|       null|       null|     draw|      null|            draw|     null|                    0|C88|2022-07-22T22:33:...| WorldChamp2021|\n",
            "|dc4a10ab-54cf-49d...|         2|WCh 2021|Dubai UAE| 2021.11.27|  2.0|       Carlsen,M|Nepomniachtchi,I|1/2-1/2|     2855|     2782|       null|       null|     draw|      null|            draw|     null|                    0|E06|2022-07-22T22:33:...| WorldChamp2021|\n",
            "|f042ca37-8899-488...|         3|WCh 2021|Dubai UAE| 2021.11.28|  3.0|Nepomniachtchi,I|       Carlsen,M|1/2-1/2|     2782|     2855|       null|       null|     draw|      null|            draw|     null|                    0|C88|2022-07-22T22:33:...| WorldChamp2021|\n",
            "|f70e4bbc-21e3-46f...|         4|WCh 2021|Dubai UAE| 2021.11.30|  4.0|       Carlsen,M|Nepomniachtchi,I|1/2-1/2|     2855|     2782|       null|       null|     draw|      null|            draw|     null|                    0|C42|2022-07-22T22:33:...| WorldChamp2021|\n",
            "|c941c323-308a-4c8...|         5|WCh 2021|Dubai UAE| 2021.12.01|  5.0|Nepomniachtchi,I|       Carlsen,M|1/2-1/2|     2782|     2855|       null|       null|     draw|      null|            draw|     null|                    0|C88|2022-07-22T22:33:...| WorldChamp2021|\n",
            "|58e83255-93bb-4d5...|         6|WCh 2021|Dubai UAE| 2021.12.03|  6.0|       Carlsen,M|Nepomniachtchi,I|    1-0|     2855|     2782|       null|       null|Carlsen,M|      2855|Nepomniachtchi,I|     2782|                   73|D02|2022-07-22T22:33:...| WorldChamp2021|\n",
            "|29181d93-73f4-4fb...|         7|WCh 2021|Dubai UAE| 2021.12.04|  7.0|Nepomniachtchi,I|       Carlsen,M|1/2-1/2|     2782|     2855|       null|       null|     draw|      null|            draw|     null|                    0|C88|2022-07-22T22:33:...| WorldChamp2021|\n",
            "|8a4ccd8c-d437-429...|         8|WCh 2021|Dubai UAE| 2021.12.05|  8.0|       Carlsen,M|Nepomniachtchi,I|    1-0|     2855|     2782|       null|       null|Carlsen,M|      2855|Nepomniachtchi,I|     2782|                   73|C43|2022-07-22T22:33:...| WorldChamp2021|\n",
            "|55a122db-27d1-495...|         9|WCh 2021|Dubai UAE| 2021.12.07|  9.0|Nepomniachtchi,I|       Carlsen,M|    0-1|     2782|     2855|       null|       null|Carlsen,M|      2855|Nepomniachtchi,I|     2782|                   73|A13|2022-07-22T22:33:...| WorldChamp2021|\n",
            "|1f900d18-5ea3-4f4...|        10|WCh 2021|Dubai UAE| 2021.12.08| 10.0|       Carlsen,M|Nepomniachtchi,I|1/2-1/2|     2855|     2782|       null|       null|     draw|      null|            draw|     null|                    0|C42|2022-07-22T22:33:...| WorldChamp2021|\n",
            "+--------------------+----------+--------+---------+-----------+-----+----------------+----------------+-------+---------+---------+-----------+-----------+---------+----------+----------------+---------+---------------------+---+--------------------+---------------+\n",
            "only showing top 10 rows\n",
            "\n"
          ]
        }
      ],
      "source": [
        "chess_wc_history_game_info_df.show(10)"
      ]
    },
    {
      "cell_type": "code",
      "execution_count": null,
      "id": "46583e47",
      "metadata": {
        "colab": {
          "base_uri": "https://localhost:8080/"
        },
        "id": "46583e47",
        "outputId": "63091e2c-fc7c-4483-ae89-2aa6c615f96c"
      },
      "outputs": [
        {
          "output_type": "stream",
          "name": "stdout",
          "text": [
            "root\n",
            " |-- game_id: string (nullable = true)\n",
            " |-- game_order: integer (nullable = true)\n",
            " |-- event: string (nullable = true)\n",
            " |-- site: string (nullable = true)\n",
            " |-- date_played: string (nullable = true)\n",
            " |-- round: double (nullable = true)\n",
            " |-- white: string (nullable = true)\n",
            " |-- black: string (nullable = true)\n",
            " |-- result: string (nullable = true)\n",
            " |-- white_elo: integer (nullable = true)\n",
            " |-- black_elo: integer (nullable = true)\n",
            " |-- white_title: string (nullable = true)\n",
            " |-- black_title: string (nullable = true)\n",
            " |-- winner: string (nullable = true)\n",
            " |-- winner_elo: integer (nullable = true)\n",
            " |-- loser: string (nullable = true)\n",
            " |-- loser_elo: integer (nullable = true)\n",
            " |-- winner_loser_elo_diff: integer (nullable = true)\n",
            " |-- eco: string (nullable = true)\n",
            " |-- date_created: string (nullable = true)\n",
            " |-- tournament_name: string (nullable = true)\n",
            "\n"
          ]
        }
      ],
      "source": [
        "chess_wc_history_game_info_df.printSchema()"
      ]
    },
    {
      "cell_type": "code",
      "execution_count": null,
      "id": "1a26fa3d",
      "metadata": {
        "id": "1a26fa3d"
      },
      "outputs": [],
      "source": [
        "eco_codes_df.createTempView(\"eco_codes\")"
      ]
    },
    {
      "cell_type": "code",
      "execution_count": null,
      "id": "3f546b9d",
      "metadata": {
        "colab": {
          "base_uri": "https://localhost:8080/"
        },
        "id": "3f546b9d",
        "outputId": "690cbf55-0485-42ef-e95e-b7b264676689"
      },
      "outputs": [
        {
          "output_type": "stream",
          "name": "stdout",
          "text": [
            "+---+--------------------+------------------+--------+---------+\n",
            "|eco|            eco_name|       eco_example|eco_type|eco_group|\n",
            "+---+--------------------+------------------+--------+---------+\n",
            "|A00|    Uncommon Opening|1 g4, a3, h3, etc.|       A|    Flank|\n",
            "|A01|Nimzovich-Larsen ...|              1 b3|       A|    Flank|\n",
            "|A02|      Bird's Opening|              1 f4|       A|    Flank|\n",
            "|A03|      Bird's Opening|           1 f4 d5|       A|    Flank|\n",
            "|A04|        Reti Opening|             1 Nf3|       A|    Flank|\n",
            "+---+--------------------+------------------+--------+---------+\n",
            "\n"
          ]
        }
      ],
      "source": [
        "spark.sql(\"SELECT * FROM eco_codes LIMIT 5\").show()"
      ]
    },
    {
      "cell_type": "code",
      "execution_count": null,
      "id": "2eaaf3f5",
      "metadata": {
        "id": "2eaaf3f5"
      },
      "outputs": [],
      "source": [
        "chess_wc_history_moves_df.createTempView(\"chess_wc_history_moves\")"
      ]
    },
    {
      "cell_type": "code",
      "execution_count": null,
      "id": "2ad8be98",
      "metadata": {
        "colab": {
          "base_uri": "https://localhost:8080/"
        },
        "id": "2ad8be98",
        "outputId": "a560624c-6d07-4b7f-d17a-feb5ae971b9b"
      },
      "outputs": [
        {
          "output_type": "stream",
          "name": "stdout",
          "text": [
            "+--------------------+-------+------------+----------------+--------+----+-----------+---------+-----+-----+--------------------+--------+-------------+--------------+----------------------+------------+------------------------+-----------+-----------+----------------+----------------+-----------------+-----------------+------------------+------------------+------------------+------------------+----------------+----------------+------------------------+------------------------+--------------------+--------------------+--------------------+--------------------+--------------------+--------------------+--------------------+--------------------+--------------------+--------------------+--------------------+--------------------+--------------------+--------------------+--------------------+--------------------+--------------------+--------------------+--------------------+--------------------+--------------------+--------------------+--------------------+--------------------+--------------------+--------------------+--------------------+--------------------+--------------------+--------------------+--------------------+--------------------+-----------------+\n",
            "|             game_id|move_no|move_no_pair|          player|notation|move|from_square|to_square|piece|color|                 fen|is_check|is_check_mate|is_fifty_moves|is_fivefold_repetition|is_game_over|is_insufficient_material|white_count|black_count|white_pawn_count|black_pawn_count|white_queen_count|black_queen_count|white_bishop_count|black_bishop_count|white_knight_count|black_knight_count|white_rook_count|black_rook_count|captured_score_for_white|captured_score_for_black|fen_row1_white_count|fen_row2_white_count|fen_row3_white_count|fen_row4_white_count|fen_row5_white_count|fen_row6_white_count|fen_row7_white_count|fen_row8_white_count|fen_row1_white_value|fen_row2_white_value|fen_row3_white_value|fen_row4_white_value|fen_row5_white_value|fen_row6_white_value|fen_row7_white_value|fen_row8_white_value|fen_row1_black_count|fen_row2_black_count|fen_row3_black_count|fen_row4_black_count|fen_row5_black_count|fen_row6_black_count|fen_row7_black_count|fen_row8_black_count|fen_row1_black_value|fen_row2_black_value|fen_row3_black_value|fen_row4_black_value|fen_row5_black_value|fen_row6_black_value|fen_row7_black_value|fen_row8_black_value|    move_sequence|\n",
            "+--------------------+-------+------------+----------------+--------+----+-----------+---------+-----+-----+--------------------+--------+-------------+--------------+----------------------+------------+------------------------+-----------+-----------+----------------+----------------+-----------------+-----------------+------------------+------------------+------------------+------------------+----------------+----------------+------------------------+------------------------+--------------------+--------------------+--------------------+--------------------+--------------------+--------------------+--------------------+--------------------+--------------------+--------------------+--------------------+--------------------+--------------------+--------------------+--------------------+--------------------+--------------------+--------------------+--------------------+--------------------+--------------------+--------------------+--------------------+--------------------+--------------------+--------------------+--------------------+--------------------+--------------------+--------------------+--------------------+--------------------+-----------------+\n",
            "|86e0b7f5-7b94-4ae...|      1|           1|Nepomniachtchi,I|      e4|e2e4|         e2|       e4|    P|White|rnbqkbnr/pppppppp...|       0|            0|             0|                     0|           0|                       0|         16|         16|               8|               8|                1|                1|                 2|                 2|                 2|                 2|               2|               2|                       0|                       0|                   8|                   7|                   0|                   1|                   0|                   0|                   0|                   0|                  31|                   7|                   0|                   1|                   0|                   0|                   0|                   0|                   0|                   0|                   0|                   0|                   0|                   0|                   8|                   8|                   0|                   0|                   0|                   0|                   0|                   0|                   8|                  31|               e4|\n",
            "|86e0b7f5-7b94-4ae...|      2|           1|       Carlsen,M|      e5|e7e5|         e7|       e5|    P|Black|rnbqkbnr/pppp1ppp...|       0|            0|             0|                     0|           0|                       0|         16|         16|               8|               8|                1|                1|                 2|                 2|                 2|                 2|               2|               2|                       0|                       0|                   8|                   7|                   0|                   1|                   0|                   0|                   0|                   0|                  31|                   7|                   0|                   1|                   0|                   0|                   0|                   0|                   0|                   0|                   0|                   0|                   1|                   0|                   7|                   8|                   0|                   0|                   0|                   0|                   1|                   0|                   7|                  31|            e4|e5|\n",
            "|86e0b7f5-7b94-4ae...|      3|           2|Nepomniachtchi,I|     Nf3|g1f3|         g1|       f3|    N|White|rnbqkbnr/pppp1ppp...|       0|            0|             0|                     0|           0|                       0|         16|         16|               8|               8|                1|                1|                 2|                 2|                 2|                 2|               2|               2|                       0|                       0|                   7|                   7|                   1|                   1|                   0|                   0|                   0|                   0|                  28|                   7|                   3|                   1|                   0|                   0|                   0|                   0|                   0|                   0|                   0|                   0|                   1|                   0|                   7|                   8|                   0|                   0|                   0|                   0|                   1|                   0|                   7|                  31|        e4|e5|Nf3|\n",
            "|86e0b7f5-7b94-4ae...|      4|           2|       Carlsen,M|     Nc6|b8c6|         b8|       c6|    N|Black|r1bqkbnr/pppp1ppp...|       0|            0|             0|                     0|           0|                       0|         16|         16|               8|               8|                1|                1|                 2|                 2|                 2|                 2|               2|               2|                       0|                       0|                   7|                   7|                   1|                   1|                   0|                   0|                   0|                   0|                  28|                   7|                   3|                   1|                   0|                   0|                   0|                   0|                   0|                   0|                   0|                   0|                   1|                   1|                   7|                   7|                   0|                   0|                   0|                   0|                   1|                   3|                   7|                  28|    e4|e5|Nf3|Nc6|\n",
            "|86e0b7f5-7b94-4ae...|      5|           3|Nepomniachtchi,I|     Bb5|f1b5|         f1|       b5|    B|White|r1bqkbnr/pppp1ppp...|       0|            0|             0|                     0|           0|                       0|         16|         16|               8|               8|                1|                1|                 2|                 2|                 2|                 2|               2|               2|                       0|                       0|                   6|                   7|                   1|                   1|                   1|                   0|                   0|                   0|                  25|                   7|                   3|                   1|                   3|                   0|                   0|                   0|                   0|                   0|                   0|                   0|                   1|                   1|                   7|                   7|                   0|                   0|                   0|                   0|                   1|                   3|                   7|                  28|e4|e5|Nf3|Nc6|Bb5|\n",
            "+--------------------+-------+------------+----------------+--------+----+-----------+---------+-----+-----+--------------------+--------+-------------+--------------+----------------------+------------+------------------------+-----------+-----------+----------------+----------------+-----------------+-----------------+------------------+------------------+------------------+------------------+----------------+----------------+------------------------+------------------------+--------------------+--------------------+--------------------+--------------------+--------------------+--------------------+--------------------+--------------------+--------------------+--------------------+--------------------+--------------------+--------------------+--------------------+--------------------+--------------------+--------------------+--------------------+--------------------+--------------------+--------------------+--------------------+--------------------+--------------------+--------------------+--------------------+--------------------+--------------------+--------------------+--------------------+--------------------+--------------------+-----------------+\n",
            "\n"
          ]
        }
      ],
      "source": [
        "spark.sql(\"SELECT * FROM chess_wc_history_moves LIMIT 5\").show()"
      ]
    },
    {
      "cell_type": "code",
      "execution_count": null,
      "id": "d77d2183",
      "metadata": {
        "id": "d77d2183"
      },
      "outputs": [],
      "source": [
        "chess_wc_history_game_info_df.createTempView(\"chess_wc_history_game_info\")"
      ]
    },
    {
      "cell_type": "code",
      "execution_count": null,
      "id": "5b9892e1",
      "metadata": {
        "id": "5b9892e1"
      },
      "outputs": [],
      "source": [
        "df1=spark.sql(\"\"\"SELECT DISTINCT winner,tournament_name \n",
        "              FROM chess_wc_history_game_info WHERE winner!='draw' AND tournament_name LIKE 'World%' \n",
        "              GROUP BY tournament_name,winner ORDER BY tournament_name\"\"\")"
      ]
    },
    {
      "cell_type": "code",
      "execution_count": null,
      "id": "535390f5",
      "metadata": {
        "scrolled": true,
        "colab": {
          "base_uri": "https://localhost:8080/"
        },
        "id": "535390f5",
        "outputId": "eaa98e05-f99b-4f71-e496-bcbeef0edcf9"
      },
      "outputs": [
        {
          "output_type": "stream",
          "name": "stdout",
          "text": [
            "+--------------------+---------------+\n",
            "|              winner|tournament_name|\n",
            "+--------------------+---------------+\n",
            "|   Steinitz, William| WorldChamp1886|\n",
            "|Zukertort, Johann...| WorldChamp1886|\n",
            "|   Steinitz, William| WorldChamp1889|\n",
            "|   Chigorin, Mikhail| WorldChamp1889|\n",
            "|    Gunsberg, Isidor| WorldChamp1890|\n",
            "|   Steinitz, William| WorldChamp1890|\n",
            "|   Chigorin, Mikhail| WorldChamp1892|\n",
            "|   Steinitz, William| WorldChamp1892|\n",
            "|     Lasker, Emanuel| WorldChamp1894|\n",
            "|   Steinitz, William| WorldChamp1894|\n",
            "|   Steinitz, William| WorldChamp1896|\n",
            "|     Lasker, Emanuel| WorldChamp1896|\n",
            "|     Lasker, Emanuel| WorldChamp1907|\n",
            "|  Tarrasch, Siegbert| WorldChamp1908|\n",
            "|     Lasker, Emanuel| WorldChamp1908|\n",
            "|Janowsky, Dawid M...| WorldChamp1909|\n",
            "|     Lasker, Emanuel| WorldChamp1909|\n",
            "|    Schlechter, Carl|WorldChamp1910a|\n",
            "|     Lasker, Emanuel|WorldChamp1910a|\n",
            "|     Lasker, Emanuel|WorldChamp1910b|\n",
            "+--------------------+---------------+\n",
            "only showing top 20 rows\n",
            "\n"
          ]
        }
      ],
      "source": [
        "df1.show()"
      ]
    },
    {
      "cell_type": "code",
      "execution_count": null,
      "id": "4eaaa8a0",
      "metadata": {
        "id": "4eaaa8a0"
      },
      "outputs": [],
      "source": [
        "df2=spark.sql(\"\"\"SELECT DISTINCT winner,tournament_name, COUNT(winner) as number_of_wins\n",
        "              FROM chess_wc_history_game_info WHERE winner!='draw' \n",
        "              GROUP BY tournament_name, winner ORDER BY number_of_wins DESC\"\"\")"
      ]
    },
    {
      "cell_type": "code",
      "execution_count": null,
      "id": "b4592118",
      "metadata": {
        "scrolled": true,
        "colab": {
          "base_uri": "https://localhost:8080/"
        },
        "id": "b4592118",
        "outputId": "de22a010-ae83-46c1-8c1c-1a8851cf2b03"
      },
      "outputs": [
        {
          "output_type": "stream",
          "name": "stdout",
          "text": [
            "+--------------------+---------------+--------------+\n",
            "|              winner|tournament_name|number_of_wins|\n",
            "+--------------------+---------------+--------------+\n",
            "|      Kasimdzhanov,R|  FideChamp2004|            13|\n",
            "|        Ponomariov,R|  FideChamp2002|            12|\n",
            "|Khalifman, Alexander|  FideChamp1999|            12|\n",
            "| Alekhine, Alexander| WorldChamp1929|            11|\n",
            "|   Steinitz, William| WorldChamp1886|            10|\n",
            "| Alekhine, Alexander| WorldChamp1937|            10|\n",
            "|   Steinitz, William| WorldChamp1892|            10|\n",
            "|  Anand, Viswanathan|  FideChamp1998|            10|\n",
            "|   Steinitz, William| WorldChamp1889|            10|\n",
            "|     Lasker, Emanuel| WorldChamp1894|            10|\n",
            "|  Botvinnik, Mikhail| WorldChamp1961|            10|\n",
            "|  Botvinnik, Mikhail| WorldChamp1948|            10|\n",
            "|     Lasker, Emanuel| WorldChamp1896|            10|\n",
            "|            Adams,Mi|  FideChamp2004|             9|\n",
            "|      Short, Nigel D|  FideChamp1998|             9|\n",
            "|           Euwe, Max| WorldChamp1935|             9|\n",
            "|      Adams, Michael|  FideChamp1998|             9|\n",
            "|           Topalov,V|  FideChamp2004|             9|\n",
            "|             Anand,V|  FideChamp2000|             8|\n",
            "|     Lasker, Emanuel|WorldChamp1910b|             8|\n",
            "+--------------------+---------------+--------------+\n",
            "only showing top 20 rows\n",
            "\n"
          ]
        }
      ],
      "source": [
        "df2.show()"
      ]
    },
    {
      "cell_type": "code",
      "execution_count": null,
      "id": "c6737fc3",
      "metadata": {
        "id": "c6737fc3"
      },
      "outputs": [],
      "source": [
        "df3=spark.sql(\"\"\"(SELECT chess.eco, COUNT(chess.eco) AS number_of_occurences, eco_name \n",
        "            FROM chess_wc_history_game_info chess INNER JOIN eco_codes codes ON codes.eco=chess.eco \n",
        "            GROUP BY chess.eco, codes.eco_name \n",
        "            UNION\n",
        "            SELECT chess.eco, COUNT(chess.eco) AS number_of_occurences, eco_name \n",
        "            FROM chess_wc_history_game_info chess INNER JOIN eco_codes codes ON codes.eco=chess.eco \n",
        "            GROUP BY chess.eco, codes.eco_name\n",
        "            ORDER BY number_of_occurences DESC LIMIT 1)\n",
        "            UNION\n",
        "            (SELECT chess.eco, COUNT(chess.eco) AS number_of_occurences, eco_name \n",
        "            FROM chess_wc_history_game_info chess INNER JOIN eco_codes codes ON codes.eco=chess.eco \n",
        "            GROUP BY chess.eco, codes.eco_name \n",
        "            UNION\n",
        "            SELECT chess.eco, COUNT(chess.eco) AS number_of_occurences, eco_name \n",
        "            FROM chess_wc_history_game_info chess INNER JOIN eco_codes codes ON codes.eco=chess.eco \n",
        "            GROUP BY chess.eco, codes.eco_name\n",
        "            ORDER BY number_of_occurences LIMIT 1)\"\"\")"
      ]
    },
    {
      "cell_type": "code",
      "execution_count": null,
      "id": "f95efd7b",
      "metadata": {
        "colab": {
          "base_uri": "https://localhost:8080/"
        },
        "id": "f95efd7b",
        "outputId": "30af87ed-b758-46cf-9b99-f8c57b17376f"
      },
      "outputs": [
        {
          "output_type": "stream",
          "name": "stdout",
          "text": [
            "+---+--------------------+--------------------+\n",
            "|eco|number_of_occurences|            eco_name|\n",
            "+---+--------------------+--------------------+\n",
            "|E30|                   1|Nimzo-Indian, Len...|\n",
            "|C42|                  64|      Petrov Defense|\n",
            "+---+--------------------+--------------------+\n",
            "\n"
          ]
        }
      ],
      "source": [
        "df3.show()"
      ]
    },
    {
      "cell_type": "code",
      "execution_count": null,
      "id": "2a661da9",
      "metadata": {
        "id": "2a661da9"
      },
      "outputs": [],
      "source": [
        "df4=spark.sql(\"\"\"SELECT chess.eco, COUNT(chess.winner) AS number_of_wins, eco_name \n",
        "            FROM chess_wc_history_game_info chess INNER JOIN eco_codes codes ON codes.eco=chess.eco \n",
        "            WHERE chess.winner!='draw' GROUP BY chess.eco, codes.eco_name \n",
        "            ORDER BY number_of_wins DESC LIMIT 1\"\"\")"
      ]
    },
    {
      "cell_type": "code",
      "execution_count": null,
      "id": "363ca105",
      "metadata": {
        "scrolled": false,
        "colab": {
          "base_uri": "https://localhost:8080/"
        },
        "id": "363ca105",
        "outputId": "f8c9a599-9215-425b-a0ed-e48ea8066fae"
      },
      "outputs": [
        {
          "output_type": "stream",
          "name": "stdout",
          "text": [
            "+---+-----------------+\n",
            "|eco|         eco_name|\n",
            "+---+-----------------+\n",
            "|B90|Sicilian, Najdorf|\n",
            "+---+-----------------+\n",
            "\n"
          ]
        }
      ],
      "source": [
        "df4.select(\"eco\",\"eco_name\").show()"
      ]
    },
    {
      "cell_type": "code",
      "execution_count": null,
      "id": "5a5a49e8",
      "metadata": {
        "id": "5a5a49e8"
      },
      "outputs": [],
      "source": [
        "df5=spark.sql(\"\"\"(SELECT moves.game_id,chess.event,chess.tournament_name,MAX(moves.move_no_pair) AS move_count \n",
        "        FROM chess_wc_history_game_info chess INNER JOIN chess_wc_history_moves moves ON moves.game_id=chess.game_id \n",
        "        GROUP BY moves.game_id,chess.event, chess.tournament_name ORDER BY move_count DESC LIMIT 1)\n",
        "        UNION\n",
        "        (SELECT moves.game_id,chess.event,chess.tournament_name,MAX(moves.move_no_pair) AS move_count \n",
        "        FROM chess_wc_history_game_info chess INNER JOIN chess_wc_history_moves moves ON moves.game_id=chess.game_id \n",
        "        GROUP BY moves.game_id,chess.event, chess.tournament_name ORDER BY move_count ASC LIMIT 1)\"\"\")"
      ]
    },
    {
      "cell_type": "code",
      "execution_count": null,
      "id": "bdc3e716",
      "metadata": {
        "scrolled": true,
        "colab": {
          "base_uri": "https://localhost:8080/"
        },
        "id": "bdc3e716",
        "outputId": "c9d06ff7-2210-4e51-bce8-b6e9874ef550"
      },
      "outputs": [
        {
          "output_type": "stream",
          "name": "stdout",
          "text": [
            "+--------------------+--------------------+---------------+----------+\n",
            "|             game_id|               event|tournament_name|move_count|\n",
            "+--------------------+--------------------+---------------+----------+\n",
            "|4424a0a4-3732-407...|         FIDE WCh KO|  FideChamp2000|       146|\n",
            "|1846cede-0037-4f0...|World Championshi...| WorldChamp1972|         1|\n",
            "+--------------------+--------------------+---------------+----------+\n",
            "\n"
          ]
        }
      ],
      "source": [
        "df5.show()"
      ]
    },
    {
      "cell_type": "code",
      "execution_count": null,
      "id": "ed7d6d9a",
      "metadata": {
        "id": "ed7d6d9a"
      },
      "outputs": [],
      "source": [
        "df6=spark.sql(\"\"\"(SELECT moves.game_id,chess.event,chess.tournament_name,MAX(moves.move_no_pair) AS number_of_moves \n",
        "        FROM chess_wc_history_game_info chess INNER JOIN chess_wc_history_moves moves ON moves.game_id=chess.game_id \n",
        "        WHERE chess.winner='draw'\n",
        "        GROUP BY moves.game_id,chess.event, chess.tournament_name ORDER BY number_of_moves DESC LIMIT 1)\n",
        "        UNION\n",
        "        (SELECT moves.game_id,chess.event,chess.tournament_name,MAX(moves.move_no_pair) AS number_of_moves \n",
        "        FROM chess_wc_history_game_info chess INNER JOIN chess_wc_history_moves moves ON moves.game_id=chess.game_id \n",
        "        WHERE chess.winner='draw'\n",
        "        GROUP BY moves.game_id,chess.event, chess.tournament_name ORDER BY number_of_moves ASC LIMIT 1)\"\"\")"
      ]
    },
    {
      "cell_type": "code",
      "execution_count": null,
      "id": "a6f5f1a7",
      "metadata": {
        "colab": {
          "base_uri": "https://localhost:8080/"
        },
        "id": "a6f5f1a7",
        "outputId": "3ffe4d4b-3bed-488a-f243-70abcc8d29c3"
      },
      "outputs": [
        {
          "output_type": "stream",
          "name": "stdout",
          "text": [
            "+--------------------+-------------+---------------+---------------+\n",
            "|             game_id|        event|tournament_name|number_of_moves|\n",
            "+--------------------+-------------+---------------+---------------+\n",
            "|88f34084-e4df-490...|  FIDE WCh KO|  FideChamp2002|            129|\n",
            "|a27c2b95-fb62-4b6...|FIDE-Wch k.o.|  FideChamp1998|              6|\n",
            "+--------------------+-------------+---------------+---------------+\n",
            "\n"
          ]
        }
      ],
      "source": [
        "df6.show()"
      ]
    },
    {
      "cell_type": "code",
      "execution_count": null,
      "id": "e36c2c60",
      "metadata": {
        "id": "e36c2c60"
      },
      "outputs": [],
      "source": [
        "df7=spark.sql(\"\"\"select DISTINCT winner as player_name, winner_elo as elo\n",
        "            from chess_wc_history_game_info\n",
        "            where winner_elo = (select max(winner_elo) from chess_wc_history_game_info)\n",
        "            union all\n",
        "            select DISTINCT loser as player_name, loser_elo as elo\n",
        "            from chess_wc_history_game_info\n",
        "            where loser_elo = (select min(loser_elo) from chess_wc_history_game_info)\"\"\")  "
      ]
    },
    {
      "cell_type": "code",
      "execution_count": null,
      "id": "74aae603",
      "metadata": {
        "colab": {
          "base_uri": "https://localhost:8080/"
        },
        "id": "74aae603",
        "outputId": "5e5dedaa-0ae8-420c-d19c-47c7a3b430fd"
      },
      "outputs": [
        {
          "output_type": "stream",
          "name": "stdout",
          "text": [
            "+---------------+----+\n",
            "|    player_name| elo|\n",
            "+---------------+----+\n",
            "|Carlsen, Magnus|2870|\n",
            "|      Abulhul,T|2076|\n",
            "+---------------+----+\n",
            "\n"
          ]
        }
      ],
      "source": [
        "df7.show()"
      ]
    },
    {
      "cell_type": "code",
      "execution_count": null,
      "id": "18940735",
      "metadata": {
        "id": "18940735"
      },
      "outputs": [],
      "source": [
        "df8=spark.sql(\"\"\"SELECT * FROM \n",
        "            (SELECT loser as player_name, COUNT(loser) AS number_of_losses \n",
        "            FROM chess_wc_history_game_info WHERE winner !='draw' \n",
        "            GROUP BY loser ORDER BY number_of_losses DESC LIMIT 3) \n",
        "            ORDER BY number_of_losses LIMIT 1\"\"\")"
      ]
    },
    {
      "cell_type": "code",
      "execution_count": null,
      "id": "b6657081",
      "metadata": {
        "colab": {
          "base_uri": "https://localhost:8080/"
        },
        "id": "b6657081",
        "outputId": "841559eb-0e6e-4009-ec98-75f0b2ba7c5e"
      },
      "outputs": [
        {
          "output_type": "stream",
          "name": "stdout",
          "text": [
            "+---------------+----------------+\n",
            "|    player_name|number_of_losses|\n",
            "+---------------+----------------+\n",
            "|Karpov, Anatoly|              36|\n",
            "+---------------+----------------+\n",
            "\n"
          ]
        }
      ],
      "source": [
        "df8.show()"
      ]
    },
    {
      "cell_type": "code",
      "execution_count": null,
      "id": "e5dca053",
      "metadata": {
        "id": "e5dca053"
      },
      "outputs": [],
      "source": [
        "df9=spark.sql(\"\"\"SELECT DISTINCT winner AS player_name, COUNT(*) AS win_count \n",
        "            FROM chess_wc_history_game_info \n",
        "            WHERE winner_loser_elo_diff<0 \n",
        "            GROUP BY winner ORDER BY win_count DESC\"\"\")"
      ]
    },
    {
      "cell_type": "code",
      "execution_count": null,
      "id": "e4966bd9",
      "metadata": {
        "colab": {
          "base_uri": "https://localhost:8080/"
        },
        "id": "e4966bd9",
        "outputId": "2983f57c-5b7c-4a89-c605-f51d494085e5"
      },
      "outputs": [
        {
          "output_type": "stream",
          "name": "stdout",
          "text": [
            "+--------------------+---------+\n",
            "|         player_name|win_count|\n",
            "+--------------------+---------+\n",
            "|     Karpov, Anatoly|       20|\n",
            "|      Kasimdzhanov,R|       11|\n",
            "|           Macieja,B|        9|\n",
            "|  Kortschnoj, Viktor|        8|\n",
            "|           Kramnik,V|        8|\n",
            "|          Grischuk,A|        7|\n",
            "|        Ponomariov,R|        7|\n",
            "|Khalifman, Alexander|        6|\n",
            "|      Kasparov, Gary|        5|\n",
            "|   Akopian, Vladimir|        5|\n",
            "|           Sulskis,S|        5|\n",
            "|      Short, Nigel D|        5|\n",
            "|         Dominguez,L|        5|\n",
            "|           Ehlvest,J|        5|\n",
            "|           Gelfand,B|        4|\n",
            "|Nisipeanu, Liviu ...|        4|\n",
            "|         Filippov,Va|        4|\n",
            "|          Nakamura,H|        4|\n",
            "| Tkachiev, Vladislav|        4|\n",
            "|            Volkov,S|        4|\n",
            "+--------------------+---------+\n",
            "only showing top 20 rows\n",
            "\n"
          ]
        }
      ],
      "source": [
        "df9.show()"
      ]
    },
    {
      "cell_type": "code",
      "execution_count": null,
      "id": "c6667b71",
      "metadata": {
        "scrolled": false,
        "id": "c6667b71"
      },
      "outputs": [],
      "source": [
        "df10=spark.sql(\"\"\"SELECT DISTINCT game_id, player as player_name, move_sequence, move_no_pair as move_count \n",
        "        FROM chess_wc_history_moves \n",
        "        GROUP BY game_id,player,move_sequence,move_count ORDER BY game_id,move_count ASC\"\"\")"
      ]
    },
    {
      "cell_type": "code",
      "execution_count": null,
      "id": "41cf5537",
      "metadata": {
        "scrolled": true,
        "colab": {
          "base_uri": "https://localhost:8080/"
        },
        "id": "41cf5537",
        "outputId": "0e2907a9-5347-42c6-d634-8d452418d837"
      },
      "outputs": [
        {
          "output_type": "stream",
          "name": "stdout",
          "text": [
            "+--------------------+-----------+--------------------+----------+\n",
            "|             game_id|player_name|       move_sequence|move_count|\n",
            "+--------------------+-----------+--------------------+----------+\n",
            "|0028cc2e-5aaa-464...|Khalifman,A|                  d4|         1|\n",
            "|0028cc2e-5aaa-464...|     Leko,P|              d4|Nf6|         1|\n",
            "|0028cc2e-5aaa-464...|Khalifman,A|          d4|Nf6|Nf3|         2|\n",
            "|0028cc2e-5aaa-464...|     Leko,P|       d4|Nf6|Nf3|g6|         2|\n",
            "|0028cc2e-5aaa-464...|Khalifman,A|    d4|Nf6|Nf3|g6|c4|         3|\n",
            "|0028cc2e-5aaa-464...|     Leko,P|d4|Nf6|Nf3|g6|c4|Bg7|         3|\n",
            "|0028cc2e-5aaa-464...|Khalifman,A|d4|Nf6|Nf3|g6|c4|...|         4|\n",
            "|0028cc2e-5aaa-464...|     Leko,P|d4|Nf6|Nf3|g6|c4|...|         4|\n",
            "|0028cc2e-5aaa-464...|Khalifman,A|d4|Nf6|Nf3|g6|c4|...|         5|\n",
            "|0028cc2e-5aaa-464...|     Leko,P|d4|Nf6|Nf3|g6|c4|...|         5|\n",
            "|0028cc2e-5aaa-464...|     Leko,P|d4|Nf6|Nf3|g6|c4|...|         6|\n",
            "|0028cc2e-5aaa-464...|Khalifman,A|d4|Nf6|Nf3|g6|c4|...|         6|\n",
            "|0028cc2e-5aaa-464...|Khalifman,A|d4|Nf6|Nf3|g6|c4|...|         7|\n",
            "|0028cc2e-5aaa-464...|     Leko,P|d4|Nf6|Nf3|g6|c4|...|         7|\n",
            "|0028cc2e-5aaa-464...|Khalifman,A|d4|Nf6|Nf3|g6|c4|...|         8|\n",
            "|0028cc2e-5aaa-464...|     Leko,P|d4|Nf6|Nf3|g6|c4|...|         8|\n",
            "|0028cc2e-5aaa-464...|     Leko,P|d4|Nf6|Nf3|g6|c4|...|         9|\n",
            "|0028cc2e-5aaa-464...|Khalifman,A|d4|Nf6|Nf3|g6|c4|...|         9|\n",
            "|0028cc2e-5aaa-464...|Khalifman,A|d4|Nf6|Nf3|g6|c4|...|        10|\n",
            "|0028cc2e-5aaa-464...|     Leko,P|d4|Nf6|Nf3|g6|c4|...|        10|\n",
            "+--------------------+-----------+--------------------+----------+\n",
            "only showing top 20 rows\n",
            "\n"
          ]
        }
      ],
      "source": [
        "df10.show()"
      ]
    },
    {
      "cell_type": "code",
      "execution_count": null,
      "id": "4469d582",
      "metadata": {
        "id": "4469d582"
      },
      "outputs": [],
      "source": [
        "df11=spark.sql(\"\"\"SELECT COUNT(loser) as total_number_of_games FROM chess_wc_history_game_info WHERE loser!='draw'\n",
        "            UNION\n",
        "            (SELECT player FROM chess_wc_history_moves WHERE color='white' AND captured_score_for_white>captured_score_for_black)\n",
        "            UNION\n",
        "            (SELECT player FROM chess_wc_history_moves WHERE color='black' AND captured_score_for_black>captured_score_for_white)\"\"\")"
      ]
    },
    {
      "cell_type": "code",
      "execution_count": null,
      "id": "5da4e428",
      "metadata": {
        "colab": {
          "base_uri": "https://localhost:8080/"
        },
        "id": "5da4e428",
        "outputId": "ccf1d5f6-af4e-4770-ffb2-037eb6fbb097"
      },
      "outputs": [
        {
          "output_type": "stream",
          "name": "stdout",
          "text": [
            "+---------------------+\n",
            "|total_number_of_games|\n",
            "+---------------------+\n",
            "|                 1423|\n",
            "+---------------------+\n",
            "\n"
          ]
        }
      ],
      "source": [
        "df11.show()"
      ]
    },
    {
      "cell_type": "code",
      "execution_count": null,
      "id": "05dd65b1",
      "metadata": {
        "id": "05dd65b1"
      },
      "outputs": [],
      "source": [
        "df12=spark.sql(\"\"\"SELECT winner,tournament_name \n",
        "            FROM chess_wc_history_game_info \n",
        "            WHERE winner!=loser AND loser!=winner \n",
        "            GROUP by tournament_name,winner \n",
        "            ORDER BY tournament_name DESC\"\"\")"
      ]
    },
    {
      "cell_type": "code",
      "execution_count": null,
      "id": "f080a9c1",
      "metadata": {
        "colab": {
          "base_uri": "https://localhost:8080/"
        },
        "id": "f080a9c1",
        "outputId": "d6da96fb-5938-4fd9-bfd5-5d4eaa0a19aa"
      },
      "outputs": [
        {
          "output_type": "stream",
          "name": "stdout",
          "text": [
            "+------------------+---------------+\n",
            "|            winner|tournament_name|\n",
            "+------------------+---------------+\n",
            "|         Carlsen,M| WorldChamp2021|\n",
            "|   Carlsen, Magnus| WorldChamp2016|\n",
            "|  Karjakin, Sergey| WorldChamp2016|\n",
            "|   Carlsen, Magnus| WorldChamp2014|\n",
            "|Anand, Viswanathan| WorldChamp2014|\n",
            "|   Carlsen, Magnus| WorldChamp2013|\n",
            "|         Gelfand,B| WorldChamp2012|\n",
            "|Anand, Viswanathan| WorldChamp2012|\n",
            "|           Anand,V| WorldChamp2012|\n",
            "|         Topalov,V| WorldChamp2010|\n",
            "|           Anand,V| WorldChamp2010|\n",
            "|           Anand,V| WorldChamp2008|\n",
            "|         Kramnik,V| WorldChamp2008|\n",
            "|         Svidler,P| WorldChamp2007|\n",
            "|         Gelfand,B| WorldChamp2007|\n",
            "|           Anand,V| WorldChamp2007|\n",
            "|         Kramnik,V| WorldChamp2007|\n",
            "|      Morozevich,A| WorldChamp2007|\n",
            "|            Leko,P| WorldChamp2007|\n",
            "|        Grischuk,A| WorldChamp2007|\n",
            "+------------------+---------------+\n",
            "only showing top 20 rows\n",
            "\n"
          ]
        }
      ],
      "source": [
        "df12.show()"
      ]
    },
    {
      "cell_type": "code",
      "execution_count": null,
      "id": "d858e3fe",
      "metadata": {
        "id": "d858e3fe"
      },
      "outputs": [],
      "source": [
        "df13=spark.sql(\"\"\"select *, win_count/game_count as win_ratio \n",
        "            from (Select winner,win_count \n",
        "            from (select count(1) as win_count, winner \n",
        "            from chess_wc_history_game_info where winner!='draw' group by winner) a join (Select distinct player_name \n",
        "            from ((Select distinct black as player_name from chess_wc_history_game_info) \n",
        "            Union (Select distinct white as player_name from chess_wc_history_game_info))) b on a.winner=b.player_name) c \n",
        "            join (select a.player_name, black_game_count+white_game_count as game_count \n",
        "            from (select black as player_name, count(game_id) as black_game_count \n",
        "            from (Select distinct black, game_id from chess_wc_history_game_info) \n",
        "            group by black) a join (select white as player_name, count(game_id) as white_game_count \n",
        "            from (Select distinct white, game_id from chess_wc_history_game_info) \n",
        "            group by white) b on a.player_name=b.player_name) d on c.winner=d.player_name order by win_ratio desc limit 1\"\"\")"
      ]
    },
    {
      "cell_type": "code",
      "execution_count": null,
      "id": "1879b9ac",
      "metadata": {
        "scrolled": false,
        "colab": {
          "base_uri": "https://localhost:8080/"
        },
        "id": "1879b9ac",
        "outputId": "329eae57-e85b-4c97-fa8b-b46cb3b36434"
      },
      "outputs": [
        {
          "output_type": "stream",
          "name": "stdout",
          "text": [
            "+-----------+\n",
            "|player_name|\n",
            "+-----------+\n",
            "| Kiseleva,N|\n",
            "+-----------+\n",
            "\n"
          ]
        }
      ],
      "source": [
        "df13.select(\"player_name\").show()"
      ]
    },
    {
      "cell_type": "code",
      "execution_count": null,
      "id": "fde0392f",
      "metadata": {
        "scrolled": true,
        "id": "fde0392f"
      },
      "outputs": [],
      "source": [
        "df14=spark.sql(\"\"\"SELECT player AS player_name FROM chess_wc_history_moves WHERE piece='P' AND is_check_mate=1\"\"\")"
      ]
    },
    {
      "cell_type": "code",
      "execution_count": null,
      "id": "db28c1ea",
      "metadata": {
        "colab": {
          "base_uri": "https://localhost:8080/"
        },
        "id": "db28c1ea",
        "outputId": "d3a523ce-8db3-436c-91d3-035c0034b0db"
      },
      "outputs": [
        {
          "output_type": "stream",
          "name": "stdout",
          "text": [
            "+--------------+\n",
            "|   player_name|\n",
            "+--------------+\n",
            "|Andersson, Ulf|\n",
            "+--------------+\n",
            "\n"
          ]
        }
      ],
      "source": [
        "df14.show()"
      ]
    },
    {
      "cell_type": "code",
      "execution_count": null,
      "id": "a51fc87a",
      "metadata": {
        "scrolled": true,
        "id": "a51fc87a"
      },
      "outputs": [],
      "source": [
        "df15=spark.sql(\"\"\"select * from (select a.game_id, color, \n",
        "case when color='White' then white_queen_count\n",
        "else black_queen_count end as queen_count,b.event,b.winner as player_name from\n",
        "(select game_id, player, color, white_queen_count, black_queen_count from chess_wc_history_moves where is_game_over=1) a\n",
        "join \n",
        "(select winner,game_id,event\n",
        " from chess_wc_history_game_info where winner!='draw') b\n",
        "on a.game_id=b.game_id) where queen_count=0\"\"\")"
      ]
    },
    {
      "cell_type": "code",
      "execution_count": null,
      "id": "fda41b62",
      "metadata": {
        "scrolled": false,
        "colab": {
          "base_uri": "https://localhost:8080/"
        },
        "id": "fda41b62",
        "outputId": "26dadd2e-211f-4053-9b43-701efe9b5749"
      },
      "outputs": [
        {
          "output_type": "stream",
          "name": "stdout",
          "text": [
            "+--------------------+-------------+--------------+\n",
            "|             game_id|        event|   player_name|\n",
            "+--------------------+-------------+--------------+\n",
            "|04c81fe4-efd8-456...|  FIDE WCh KO|    Nakamura,H|\n",
            "|ac45a5ed-172d-4ae...|FIDE-Wch k.o.|Andersson, Ulf|\n",
            "+--------------------+-------------+--------------+\n",
            "\n"
          ]
        }
      ],
      "source": [
        "df15.select(\"game_id\",\"event\",\"player_name\").show()"
      ]
    },
    {
      "cell_type": "code",
      "execution_count": null,
      "id": "04604143",
      "metadata": {
        "colab": {
          "base_uri": "https://localhost:8080/",
          "height": 217
        },
        "id": "04604143",
        "outputId": "c578305c-c61d-423a-c4dc-fc66b1ef1254"
      },
      "outputs": [
        {
          "output_type": "error",
          "ename": "FileExistsError",
          "evalue": "ignored",
          "traceback": [
            "\u001b[0;31m---------------------------------------------------------------------------\u001b[0m",
            "\u001b[0;31mFileExistsError\u001b[0m                           Traceback (most recent call last)",
            "\u001b[0;32m<ipython-input-54-4403e559d0a9>\u001b[0m in \u001b[0;36m<module>\u001b[0;34m\u001b[0m\n\u001b[1;32m      3\u001b[0m \u001b[0mparent_dir\u001b[0m\u001b[0;34m=\u001b[0m\u001b[0;34m\"/content/drive/MyDrive/DE_SOLUTION_Shrey_Ratna\"\u001b[0m\u001b[0;34m\u001b[0m\u001b[0;34m\u001b[0m\u001b[0m\n\u001b[1;32m      4\u001b[0m \u001b[0mpath\u001b[0m \u001b[0;34m=\u001b[0m \u001b[0mos\u001b[0m\u001b[0;34m.\u001b[0m\u001b[0mpath\u001b[0m\u001b[0;34m.\u001b[0m\u001b[0mjoin\u001b[0m\u001b[0;34m(\u001b[0m\u001b[0mparent_dir\u001b[0m\u001b[0;34m,\u001b[0m\u001b[0mdirectory\u001b[0m\u001b[0;34m)\u001b[0m\u001b[0;34m\u001b[0m\u001b[0;34m\u001b[0m\u001b[0m\n\u001b[0;32m----> 5\u001b[0;31m \u001b[0mos\u001b[0m\u001b[0;34m.\u001b[0m\u001b[0mmkdir\u001b[0m\u001b[0;34m(\u001b[0m\u001b[0mpath\u001b[0m\u001b[0;34m)\u001b[0m\u001b[0;34m\u001b[0m\u001b[0;34m\u001b[0m\u001b[0m\n\u001b[0m\u001b[1;32m      6\u001b[0m \u001b[0mprint\u001b[0m\u001b[0;34m(\u001b[0m\u001b[0;34m\"Directory '% s' created\"\u001b[0m \u001b[0;34m%\u001b[0m \u001b[0mdirectory\u001b[0m\u001b[0;34m)\u001b[0m\u001b[0;34m\u001b[0m\u001b[0;34m\u001b[0m\u001b[0m\n",
            "\u001b[0;31mFileExistsError\u001b[0m: [Errno 17] File exists: '/content/drive/MyDrive/DE_SOLUTION_Shrey_Ratna/results'"
          ]
        }
      ],
      "source": [
        "import os\n",
        "directory=\"results\"\n",
        "parent_dir=\"/content/drive/MyDrive/DE_SOLUTION_Shrey_Ratna\"\n",
        "path = os.path.join(parent_dir,directory)\n",
        "os.mkdir(path)\n",
        "print(\"Directory '% s' created\" % directory)"
      ]
    },
    {
      "cell_type": "code",
      "execution_count": null,
      "id": "6fb0e59c",
      "metadata": {
        "scrolled": false,
        "id": "6fb0e59c"
      },
      "outputs": [],
      "source": [
        "import pyspark\n",
        "import pandas as pd\n",
        "from pathlib import Path \n",
        "dfs=[df1,df2,df3,df4,df5,df6,df7,df8,df9,df10,df11,df12,df13,df14,df15]\n",
        "filepath = Path('/content/drive/MyDrive/DE_SOLUTION_Shrey_Ratna/results/df.csv')\n",
        "filepath.parent.mkdir(parents=True, exist_ok=True) \n",
        "for x in dfs:\n",
        "    y=x.toPandas()\n",
        "    y.to_csv(f\"/content/drive/MyDrive/DE_SOLUTION_Shrey_Ratna/results/df{dfs.index(x) + 1}.csv\", encoding='utf-8', index=False)"
      ]
    }
  ],
  "metadata": {
    "kernelspec": {
      "display_name": "Python 3 (ipykernel)",
      "language": "python",
      "name": "python3"
    },
    "language_info": {
      "codemirror_mode": {
        "name": "ipython",
        "version": 3
      },
      "file_extension": ".py",
      "mimetype": "text/x-python",
      "name": "python",
      "nbconvert_exporter": "python",
      "pygments_lexer": "ipython3",
      "version": "3.9.12"
    },
    "colab": {
      "provenance": []
    }
  },
  "nbformat": 4,
  "nbformat_minor": 5
}